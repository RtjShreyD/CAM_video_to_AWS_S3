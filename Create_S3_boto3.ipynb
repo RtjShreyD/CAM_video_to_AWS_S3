{
 "cells": [
  {
   "cell_type": "code",
   "execution_count": 2,
   "metadata": {},
   "outputs": [
    {
     "name": "stdout",
     "output_type": "stream",
     "text": [
      "Defaulting to user installation because normal site-packages is not writeable\n",
      "Collecting boto3\n",
      "  Using cached boto3-1.11.9-py2.py3-none-any.whl (128 kB)\n",
      "Requirement already satisfied: jmespath<1.0.0,>=0.7.1 in /usr/local/lib/python3.6/dist-packages (from boto3) (0.9.4)\n",
      "Requirement already satisfied: botocore<1.15.0,>=1.14.9 in /usr/local/lib/python3.6/dist-packages (from boto3) (1.14.9)\n",
      "Requirement already satisfied: s3transfer<0.4.0,>=0.3.0 in /usr/local/lib/python3.6/dist-packages (from boto3) (0.3.2)\n",
      "Requirement already satisfied: urllib3<1.26,>=1.20 in /usr/lib/python3/dist-packages (from botocore<1.15.0,>=1.14.9->boto3) (1.22)\n",
      "Requirement already satisfied: python-dateutil<3.0.0,>=2.1 in /usr/lib/python3/dist-packages (from botocore<1.15.0,>=1.14.9->boto3) (2.6.1)\n",
      "Requirement already satisfied: docutils<0.16,>=0.10 in /usr/local/lib/python3.6/dist-packages (from botocore<1.15.0,>=1.14.9->boto3) (0.15.2)\n",
      "Installing collected packages: boto3\n",
      "Successfully installed boto3-1.11.9\n"
     ]
    }
   ],
   "source": [
    "!pip install boto3"
   ]
  },
  {
   "cell_type": "code",
   "execution_count": 3,
   "metadata": {},
   "outputs": [],
   "source": [
    "import boto3\n",
    "import datetime"
   ]
  },
  {
   "cell_type": "code",
   "execution_count": 4,
   "metadata": {},
   "outputs": [
    {
     "data": {
      "text/plain": [
       "datetime.datetime(2020, 1, 29, 21, 7, 15, 260980)"
      ]
     },
     "execution_count": 4,
     "metadata": {},
     "output_type": "execute_result"
    }
   ],
   "source": [
    "d = datetime.datetime.now()\n",
    "d"
   ]
  },
  {
   "cell_type": "code",
   "execution_count": 5,
   "metadata": {},
   "outputs": [
    {
     "data": {
      "text/plain": [
       "'2912020'"
      ]
     },
     "execution_count": 5,
     "metadata": {},
     "output_type": "execute_result"
    }
   ],
   "source": [
    "Current_time = \"{}{}{}\".format(d.day, d.month, d.year)\n",
    "Current_time"
   ]
  },
  {
   "cell_type": "markdown",
   "metadata": {},
   "source": [
    "# We will Connect to AWS using boto3 and list all the available buckets\n",
    "\n",
    "## Steps:\n",
    "\n",
    "#### 1. Login to AWS account >> create IAM User  >> save the credentials\n",
    "#### 2. To start  AWS cli : \n",
    "        Install via pip as root user-> sudo pip3 install awscli\n",
    "        check version--> python3 -m awscli --version\n",
    "        Access the awscli using Python module--> python3 -m awscli configure\n",
    "        Once done awscli will accessible from everywhere in the system\n",
    "#### 3. Access the awscli configure from the jupyter environment if using the notebook to interact with aws\n",
    "#### 4. Fill in the credentials and set default region as 'us-east-1' and format as json, then reload this notebook.\n",
    "#### 5. The cell below shows how to list all the available buckets in your account.\n",
    "        "
   ]
  },
  {
   "cell_type": "code",
   "execution_count": 6,
   "metadata": {},
   "outputs": [
    {
     "name": "stdout",
     "output_type": "stream",
     "text": [
      "tronano\n"
     ]
    }
   ],
   "source": [
    "s3 = boto3.resource('s3')\n",
    "for bucket in s3.buckets.all():\n",
    "    print(bucket.name)"
   ]
  },
  {
   "cell_type": "markdown",
   "metadata": {},
   "source": [
    "# Create a new S3 Bucket below\n",
    "\n",
    "##### Note: If awscli configure parameters are changed you need to reload this notebook again\n",
    "\n",
    "### How to Name the Bucket\n",
    "\n",
    "#### BucketUsername Project/TaskName Date\n",
    "\n",
    "#### Example-->\n",
    "\n",
    "#### rtj-cvs-2912020"
   ]
  },
  {
   "cell_type": "code",
   "execution_count": 9,
   "metadata": {},
   "outputs": [],
   "source": [
    "client = boto3.client('s3')\n",
    "\n",
    "response = client.create_bucket(\n",
    "    ACL='public-read',\n",
    "    Bucket='rtj-cvs-{}'.format(Current_time),\n",
    "    CreateBucketConfiguration={\n",
    "        'LocationConstraint': 'us-west-1'\n",
    "    }\n",
    ")"
   ]
  },
  {
   "cell_type": "code",
   "execution_count": 10,
   "metadata": {},
   "outputs": [
    {
     "data": {
      "text/plain": [
       "{'ResponseMetadata': {'RequestId': 'E9B15FAF346C9EA4',\n",
       "  'HostId': '99auA8YJhSWZWkyN+n1yGTC4ZArePbh6HXG6MLj2tRxIguQilomveVxYN8DfMDQX/eAfn25Be7w=',\n",
       "  'HTTPStatusCode': 200,\n",
       "  'HTTPHeaders': {'x-amz-id-2': '99auA8YJhSWZWkyN+n1yGTC4ZArePbh6HXG6MLj2tRxIguQilomveVxYN8DfMDQX/eAfn25Be7w=',\n",
       "   'x-amz-request-id': 'E9B15FAF346C9EA4',\n",
       "   'date': 'Wed, 29 Jan 2020 16:51:19 GMT',\n",
       "   'location': 'http://rtj-cvs-2912020.s3.amazonaws.com/',\n",
       "   'content-length': '0',\n",
       "   'server': 'AmazonS3'},\n",
       "  'RetryAttempts': 0},\n",
       " 'Location': 'http://rtj-cvs-2912020.s3.amazonaws.com/'}"
      ]
     },
     "execution_count": 10,
     "metadata": {},
     "output_type": "execute_result"
    }
   ],
   "source": [
    "response"
   ]
  },
  {
   "cell_type": "code",
   "execution_count": null,
   "metadata": {},
   "outputs": [],
   "source": []
  }
 ],
 "metadata": {
  "kernelspec": {
   "display_name": "Python 3",
   "language": "python",
   "name": "python3"
  },
  "language_info": {
   "codemirror_mode": {
    "name": "ipython",
    "version": 3
   },
   "file_extension": ".py",
   "mimetype": "text/x-python",
   "name": "python",
   "nbconvert_exporter": "python",
   "pygments_lexer": "ipython3",
   "version": "3.6.9"
  }
 },
 "nbformat": 4,
 "nbformat_minor": 4
}
